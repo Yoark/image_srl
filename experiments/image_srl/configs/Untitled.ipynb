{
 "cells": [
  {
   "cell_type": "code",
   "execution_count": 3,
   "metadata": {},
   "outputs": [],
   "source": [
    "import json"
   ]
  },
  {
   "cell_type": "code",
   "execution_count": 4,
   "metadata": {},
   "outputs": [],
   "source": [
    "!cd /home/zijiao/work/multimodel_seq2seq/output/"
   ]
  },
  {
   "cell_type": "code",
   "execution_count": 5,
   "metadata": {},
   "outputs": [
    {
     "name": "stdout",
     "output_type": "stream",
     "text": [
      "image_srl.jsonnet           image_srl_lamb_04.jsonnet\r\n",
      "image_srl_lamb_00.jsonnet   image_srl_lamb_05.jsonnet\r\n",
      "image_srl_lamb_0.3.jsonnet  Untitled.ipynb\r\n"
     ]
    }
   ],
   "source": [
    "ls"
   ]
  },
  {
   "cell_type": "code",
   "execution_count": 6,
   "metadata": {},
   "outputs": [
    {
     "name": "stdout",
     "output_type": "stream",
     "text": [
      "/home/zijiao/work/multimodel_seq2seq/experiments/image_srl\n"
     ]
    }
   ],
   "source": [
    "cd .."
   ]
  },
  {
   "cell_type": "code",
   "execution_count": 7,
   "metadata": {},
   "outputs": [
    {
     "name": "stdout",
     "output_type": "stream",
     "text": [
      "/home/zijiao/work/multimodel_seq2seq/experiments\n"
     ]
    }
   ],
   "source": [
    "cd .."
   ]
  },
  {
   "cell_type": "code",
   "execution_count": 8,
   "metadata": {},
   "outputs": [
    {
     "name": "stdout",
     "output_type": "stream",
     "text": [
      "/home/zijiao/work/multimodel_seq2seq\n"
     ]
    }
   ],
   "source": [
    "cd .."
   ]
  },
  {
   "cell_type": "code",
   "execution_count": 9,
   "metadata": {},
   "outputs": [
    {
     "name": "stdout",
     "output_type": "stream",
     "text": [
      "/home/zijiao/work/multimodel_seq2seq/output\n"
     ]
    }
   ],
   "source": [
    "cd output"
   ]
  },
  {
   "cell_type": "code",
   "execution_count": 10,
   "metadata": {},
   "outputs": [
    {
     "name": "stdout",
     "output_type": "stream",
     "text": [
      "dev_ims.npy  \u001b[0m\u001b[01;34mtest\u001b[0m/           \u001b[01;34mtrain\u001b[0m/           Untitled.ipynb  val4000_srls.json\r\n",
      "Notes.ipynb  test_srls.json  train_srls.json  \u001b[01;34mval\u001b[0m/            val_srls.json\r\n"
     ]
    }
   ],
   "source": [
    "ls"
   ]
  },
  {
   "cell_type": "code",
   "execution_count": 12,
   "metadata": {},
   "outputs": [],
   "source": [
    "with open('train_srls.json') as f:\n",
    "    srls = []\n",
    "    for line in f.readlines():\n",
    "            srls.append(json.loads(line))"
   ]
  },
  {
   "cell_type": "code",
   "execution_count": 13,
   "metadata": {},
   "outputs": [
    {
     "data": {
      "text/plain": [
       "{'verbs': [{'verb': 'has',\n",
       "   'description': '[ARG0: A restaurant] [V: has] [ARG1: modern wooden tables and chairs] .',\n",
       "   'tags': ['B-ARG0',\n",
       "    'I-ARG0',\n",
       "    'B-V',\n",
       "    'B-ARG1',\n",
       "    'I-ARG1',\n",
       "    'I-ARG1',\n",
       "    'I-ARG1',\n",
       "    'I-ARG1',\n",
       "    'O']}],\n",
       " 'words': ['A',\n",
       "  'restaurant',\n",
       "  'has',\n",
       "  'modern',\n",
       "  'wooden',\n",
       "  'tables',\n",
       "  'and',\n",
       "  'chairs',\n",
       "  '.']}"
      ]
     },
     "execution_count": 13,
     "metadata": {},
     "output_type": "execute_result"
    }
   ],
   "source": [
    "srls[0]"
   ]
  },
  {
   "cell_type": "markdown",
   "metadata": {},
   "source": [
    "{'verbs': [{'verb': 'has',\n",
    "   'description': '[ARG0: A restaurant] [V: has] [ARG1: modern wooden tables and chairs] .',\n",
    "   'tags': ['B-ARG0',\n",
    "    'I-ARG0',\n",
    "    'B-V',\n",
    "    'B-ARG1',\n",
    "    'I-ARG1',\n",
    "    'I-ARG1',\n",
    "    'I-ARG1',\n",
    "    'I-ARG1',\n",
    "    'O']}],\n",
    " 'words': ['A',\n",
    "  'restaurant',\n",
    "  'has',\n",
    "  'modern',\n",
    "  'wooden',\n",
    "  'tables',\n",
    "  'and',\n",
    "  'chairs',\n",
    "  '.']}"
   ]
  }
 ],
 "metadata": {
  "kernelspec": {
   "display_name": "Python 3",
   "language": "python",
   "name": "python3"
  },
  "language_info": {
   "codemirror_mode": {
    "name": "ipython",
    "version": 3
   },
   "file_extension": ".py",
   "mimetype": "text/x-python",
   "name": "python",
   "nbconvert_exporter": "python",
   "pygments_lexer": "ipython3",
   "version": "3.7.5"
  }
 },
 "nbformat": 4,
 "nbformat_minor": 2
}
